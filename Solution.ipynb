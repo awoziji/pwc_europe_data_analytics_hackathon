{
 "cells": [
  {
   "cell_type": "markdown",
   "metadata": {},
   "source": [
    "---\n",
    "# Data Science Hackathon\n",
    "_You are currently looking at the solution of the Data Science Hackathon by PwC Eur._\n",
    "\n",
    "---"
   ]
  },
  {
   "cell_type": "markdown",
   "metadata": {},
   "source": [
    "## Impact of Recessions on Housing Prices in Univeristy vs Not Univeristy Towns\n",
    "\n",
    "\n",
    "**Hypothesis**: University towns have their mean housing prices less effected by recessions. Run a t-test to compare the ratio of the mean price of houses in university towns the quarter before the recession starts compared to the recession bottom. (`price_ratio=quarter_before_recession/recession_bottom`)\n",
    "\n",
    "Definitions:\n",
    "* A _quarter_ is a specific three month period, Q1 is January through March, Q2 is April through June, Q3 is July through September, Q4 is October through December.\n",
    "* A _recession_ is defined as starting with two consecutive quarters of GDP decline, and ending with two consecutive quarters of GDP growth.\n",
    "* A _recession bottom_ is the quarter within a recession which had the lowest GDP.\n",
    "* A _university town_ is a city which has a high percentage of university students compared to the total population of the city.\n",
    "\n",
    "The following data files are available for this assignment:\n",
    "* From the [Zillow research data site](http://www.zillow.com/research/data/) there is housing data for the United States. In particular the datafile for [all homes at a city level](http://files.zillowstatic.com/research/public/City/City_Zhvi_AllHomes.csv), ```City_Zhvi_AllHomes.csv```, has median home sale prices at a fine grained level.\n",
    "* From the Wikipedia page on college towns is a list of [university towns in the United States](https://en.wikipedia.org/wiki/List_of_college_towns#College_towns_in_the_United_States) which has been copy and pasted into the file ```university_towns.txt```.\n",
    "* From Bureau of Economic Analysis, US Department of Commerce, the [GDP over time](http://www.bea.gov/national/index.htm#gdp) of the United States in current dollars (use the chained value in 2009 dollars), in quarterly intervals, in the file ```gdplev.xls```. For this assignment, only look at GDP data from the first quarter of 2000 onward.\n"
   ]
  },
  {
   "cell_type": "code",
   "execution_count": 27,
   "metadata": {
    "collapsed": true
   },
   "outputs": [],
   "source": [
    "import re\n",
    "import os\n",
    "import pandas as pd\n",
    "import numpy as np\n",
    "from scipy.stats import ttest_ind"
   ]
  },
  {
   "cell_type": "code",
   "execution_count": 28,
   "metadata": {
    "collapsed": true
   },
   "outputs": [],
   "source": [
    "pd.set_option('display.max_rows', 50)\n",
    "pd.set_option('display.max_columns', 500)\n",
    "pd.set_option('display.width', 150)"
   ]
  },
  {
   "cell_type": "code",
   "execution_count": 29,
   "metadata": {},
   "outputs": [],
   "source": [
    "# os.getcwd() #check your cwd\n",
    "# os.chdir('...')   #adjust your cwd"
   ]
  },
  {
   "cell_type": "code",
   "execution_count": 30,
   "metadata": {
    "collapsed": true
   },
   "outputs": [],
   "source": [
    "# Use this dictionary to map state names to two letter acronyms\n",
    "states = {'OH': 'Ohio', 'KY': 'Kentucky', 'AS': 'American Samoa', 'NV': 'Nevada', 'WY': 'Wyoming', 'NA': 'National', 'AL': 'Alabama', 'MD': 'Maryland', 'AK': 'Alaska', 'UT': 'Utah', 'OR': 'Oregon', 'MT': 'Montana', 'IL': 'Illinois', 'TN': 'Tennessee', 'DC': 'District of Columbia', 'VT': 'Vermont', 'ID': 'Idaho', 'AR': 'Arkansas', 'ME': 'Maine', 'WA': 'Washington', 'HI': 'Hawaii', 'WI': 'Wisconsin', 'MI': 'Michigan', 'IN': 'Indiana', 'NJ': 'New Jersey', 'AZ': 'Arizona', 'GU': 'Guam', 'MS': 'Mississippi', 'PR': 'Puerto Rico', 'NC': 'North Carolina', 'TX': 'Texas', 'SD': 'South Dakota', 'MP': 'Northern Mariana Islands', 'IA': 'Iowa', 'MO': 'Missouri', 'CT': 'Connecticut', 'WV': 'West Virginia', 'SC': 'South Carolina', 'LA': 'Louisiana', 'KS': 'Kansas', 'NY': 'New York', 'NE': 'Nebraska', 'OK': 'Oklahoma', 'FL': 'Florida', 'CA': 'California', 'CO': 'Colorado', 'PA': 'Pennsylvania', 'DE': 'Delaware', 'NM': 'New Mexico', 'RI': 'Rhode Island', 'MN': 'Minnesota', 'VI': 'Virgin Islands', 'NH': 'New Hampshire', 'MA': 'Massachusetts', 'GA': 'Georgia', 'ND': 'North Dakota', 'VA': 'Virginia'}"
   ]
  },
  {
   "cell_type": "code",
   "execution_count": 7,
   "metadata": {
    "collapsed": true
   },
   "outputs": [],
   "source": [
    "def isState(line: str):\n",
    "    return line.endswith('[edit]')\n",
    "\n",
    "def cleanState(line: str):\n",
    "    return line.replace('[edit]', '')\n",
    "\n",
    "def cleanCity(line: str):\n",
    "    return re.sub(r' \\(.+$', '', line)"
   ]
  },
  {
   "cell_type": "code",
   "execution_count": 33,
   "metadata": {},
   "outputs": [],
   "source": [
    "def get_list_of_university_towns():\n",
    "    stateTownsList = []\n",
    "\n",
    "    with open(\"university_towns.txt\", encoding=\"utf-8\") as file:\n",
    "        currentState = None\n",
    "\n",
    "        for line in file:\n",
    "            line = line.strip()\n",
    "            if isState(line):\n",
    "                currentState = cleanState(line)\n",
    "            else:\n",
    "                stateTownsList.append((currentState, cleanCity(line)))\n",
    "\n",
    "    return pd.DataFrame(stateTownsList, columns=[\"State\", \"RegionName\"])"
   ]
  },
  {
   "cell_type": "code",
   "execution_count": 9,
   "metadata": {
    "collapsed": true
   },
   "outputs": [],
   "source": [
    "def yearMoToYearQuarter(yearMo: str):\n",
    "    yearMo = yearMo.split('-')\n",
    "    month = int(yearMo[1])\n",
    "    quarter = int((month - 1) / 3) + 1\n",
    "    return yearMo[0] + 'q' + str(quarter)"
   ]
  },
  {
   "cell_type": "code",
   "execution_count": 10,
   "metadata": {
    "collapsed": true
   },
   "outputs": [],
   "source": [
    "def convert_housing_data_to_quarters():\n",
    "    return pd.read_csv('City_Zhvi_AllHomes.csv') \\\n",
    "            .replace({'State': states}) \\\n",
    "            .set_index(['State', 'RegionName']) \\\n",
    "            .iloc[:, 49:] \\\n",
    "            .groupby(yearMoToYearQuarter, axis=1) \\\n",
    "            .mean()"
   ]
  },
  {
   "cell_type": "code",
   "execution_count": 11,
   "metadata": {
    "collapsed": true
   },
   "outputs": [],
   "source": [
    "def readGdp():\n",
    "    gdp = pd.read_excel('gdplev.xls', sheetname=0, skiprows=8, header=None).iloc[:, [4, 6]]\n",
    "    gdp.columns = ['year-quarter', 'gdp']\n",
    "    startIndex = gdp.loc[(gdp['year-quarter'] == '2000q1'), :].index[0]\n",
    "    gdp = gdp.iloc[startIndex:, :]\n",
    "    gdp['diff'] = gdp['gdp'] - gdp['gdp'].shift(1)\n",
    "    return gdp.set_index('year-quarter')"
   ]
  },
  {
   "cell_type": "code",
   "execution_count": 18,
   "metadata": {
    "collapsed": true
   },
   "outputs": [],
   "source": [
    "def get_recession_start():\n",
    "    gdp = readGdp()\n",
    "    return gdp[(gdp['diff'] < 0) & (gdp['diff'].shift(-1) < 0)].index[0]"
   ]
  },
  {
   "cell_type": "code",
   "execution_count": 13,
   "metadata": {
    "collapsed": true
   },
   "outputs": [],
   "source": [
    "def get_recession_end():\n",
    "    gdp = readGdp()\n",
    "    recessionStart = get_recession_start()\n",
    "    return gdp.loc[recessionStart:, :].where((gdp['diff'] > 0) & (gdp['diff'].shift(1) > 0)).dropna().index[0]"
   ]
  },
  {
   "cell_type": "code",
   "execution_count": 92,
   "metadata": {
    "collapsed": true
   },
   "outputs": [],
   "source": [
    "def get_recession_bottom():\n",
    "    gdp = readGdp()\n",
    "    recessionStart = get_recession_start()\n",
    "    recessionEnd = get_recession_end()\n",
    "    return gdp.loc[recessionStart:recessionEnd, 'gdp'].idxmin()"
   ]
  },
  {
   "cell_type": "code",
   "execution_count": 93,
   "metadata": {
    "collapsed": true
   },
   "outputs": [],
   "source": [
    "def get_recession_start_before():\n",
    "    gdp = readGdp()\n",
    "    return gdp[(gdp['diff'].shift(-1) < 0) & (gdp['diff'].shift(-2) < 0)].index[0]\n"
   ]
  },
  {
   "cell_type": "code",
   "execution_count": 94,
   "metadata": {
    "collapsed": true
   },
   "outputs": [],
   "source": [
    "def house_data_with_universities():\n",
    "    beforeRecessionColumn = get_recession_start_before()\n",
    "    recessionBottomColumn = get_recession_bottom()\n",
    "    houseData = convert_housing_data_to_quarters() \\\n",
    "        .loc[:, [beforeRecessionColumn, recessionBottomColumn]] \\\n",
    "        .reset_index() \\\n",
    "        .dropna()\n",
    "    houseData['price_ratio'] = houseData[beforeRecessionColumn] / houseData[recessionBottomColumn]\n",
    "    universityTowns = get_list_of_university_towns()\n",
    "    universityTowns['isUniversityTown'] = True\n",
    "    houseDataWithUniversities = pd.merge(houseData, universityTowns, how='left', on=['State', 'RegionName'])\n",
    "    houseDataWithUniversities['isUniversityTown'].fillna(False, inplace=True)\n",
    "    return houseDataWithUniversities\n"
   ]
  },
  {
   "cell_type": "code",
   "execution_count": 95,
   "metadata": {},
   "outputs": [
    {
     "data": {
      "text/plain": [
       "(True, 0.0027240637047614541, 'university town')"
      ]
     },
     "execution_count": 95,
     "metadata": {},
     "output_type": "execute_result"
    }
   ],
   "source": [
    "def run_ttest():\n",
    "    houseDataWithUniversities = house_data_with_universities()\n",
    "    withUni = houseDataWithUniversities[houseDataWithUniversities['isUniversityTown']].loc[:, 'price_ratio'].dropna()\n",
    "    withoutUni = houseDataWithUniversities[~houseDataWithUniversities['isUniversityTown']].loc[:, 'price_ratio'].dropna()\n",
    "    withUniMean = withUni.mean()\n",
    "    withoutUniMean = withoutUni.mean()\n",
    "    alpha = 0.01\n",
    "    stats = ttest_ind(withUni, withoutUni)\n",
    "    p = stats[1]\n",
    "    return (p < alpha, p, 'university town' if withUniMean < withoutUniMean else 'non-university town')\n",
    "run_ttest()"
   ]
  }
 ],
 "metadata": {
  "coursera": {
   "course_slug": "python-data-analysis",
   "graded_item_id": "Il9Fx",
   "launcher_item_id": "TeDW0",
   "part_id": "WGlun"
  },
  "kernelspec": {
   "display_name": "Python 3",
   "language": "python",
   "name": "python3"
  },
  "language_info": {
   "codemirror_mode": {
    "name": "ipython",
    "version": 3
   },
   "file_extension": ".py",
   "mimetype": "text/x-python",
   "name": "python",
   "nbconvert_exporter": "python",
   "pygments_lexer": "ipython3",
   "version": "3.6.5"
  },
  "umich": {
   "id": "Assignment 4",
   "version": "1.1"
  }
 },
 "nbformat": 4,
 "nbformat_minor": 2
}
